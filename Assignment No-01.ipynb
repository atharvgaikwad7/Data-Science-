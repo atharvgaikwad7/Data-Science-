{
 "cells": [
  {
   "cell_type": "code",
   "execution_count": 57,
   "id": "96e625f6",
   "metadata": {},
   "outputs": [],
   "source": [
    "#Name: Atharv Gaikwad\n",
    "#Roll no: 42\n",
    "#div : A\n",
    "#Batch:T2A\n",
    "#Title: \n"
   ]
  },
  {
   "cell_type": "code",
   "execution_count": 58,
   "id": "67a5ef55",
   "metadata": {},
   "outputs": [],
   "source": [
    "\n",
    "import numpy as np "
   ]
  },
  {
   "cell_type": "code",
   "execution_count": 59,
   "id": "62c05a09",
   "metadata": {},
   "outputs": [
    {
     "data": {
      "text/plain": [
       "array([[1, 2, 3],\n",
       "       [4, 5, 6],\n",
       "       [7, 8, 9]])"
      ]
     },
     "execution_count": 59,
     "metadata": {},
     "output_type": "execute_result"
    }
   ],
   "source": [
    "array1=np.array([[1,2,3],[4,5,6],[7,8,9]])   # Creating the array \n",
    "array1    # print the array "
   ]
  },
  {
   "cell_type": "code",
   "execution_count": 60,
   "id": "75195d7f",
   "metadata": {},
   "outputs": [
    {
     "data": {
      "text/plain": [
       "9"
      ]
     },
     "execution_count": 60,
     "metadata": {},
     "output_type": "execute_result"
    }
   ],
   "source": [
    "array1.size     # Find the array size "
   ]
  },
  {
   "cell_type": "code",
   "execution_count": 61,
   "id": "0102b6c9",
   "metadata": {},
   "outputs": [
    {
     "data": {
      "text/plain": [
       "2"
      ]
     },
     "execution_count": 61,
     "metadata": {},
     "output_type": "execute_result"
    }
   ],
   "source": [
    "array1.ndim     # find the N Dimenetion "
   ]
  },
  {
   "cell_type": "code",
   "execution_count": 62,
   "id": "fef6bc41",
   "metadata": {},
   "outputs": [
    {
     "data": {
      "text/plain": [
       "array([[ 2,  3,  4],\n",
       "       [ 5,  6,  7],\n",
       "       [ 8,  9, 10]])"
      ]
     },
     "execution_count": 62,
     "metadata": {},
     "output_type": "execute_result"
    }
   ],
   "source": [
    "arr2=np.arange(2,11)    # Arranging the no from 2 to 10 \n",
    "arr2\n",
    "b=arr2.reshape(3,3)     # Reshape into the 3 * 3 matrix \n",
    "b"
   ]
  },
  {
   "cell_type": "code",
   "execution_count": 63,
   "id": "d5e089e1",
   "metadata": {},
   "outputs": [
    {
     "data": {
      "text/plain": [
       "2"
      ]
     },
     "execution_count": 63,
     "metadata": {},
     "output_type": "execute_result"
    }
   ],
   "source": [
    "array1.ndim        # find the N Dimenetion "
   ]
  },
  {
   "cell_type": "code",
   "execution_count": 64,
   "id": "85fa8aa9",
   "metadata": {},
   "outputs": [
    {
     "data": {
      "text/plain": [
       "array([1, 2, 3, 4, 5, 6, 7, 8, 9])"
      ]
     },
     "execution_count": 64,
     "metadata": {},
     "output_type": "execute_result"
    }
   ],
   "source": [
    "arr3=np.array([1,2,3,4,5,6,7,8,9])\n",
    "arr3"
   ]
  },
  {
   "cell_type": "code",
   "execution_count": 65,
   "id": "e79b98a6",
   "metadata": {},
   "outputs": [
    {
     "data": {
      "text/plain": [
       "np.int64(3)"
      ]
     },
     "execution_count": 65,
     "metadata": {},
     "output_type": "execute_result"
    }
   ],
   "source": [
    "arr3[2]    # Find the index 2 "
   ]
  },
  {
   "cell_type": "code",
   "execution_count": 66,
   "id": "6e0578ba",
   "metadata": {},
   "outputs": [
    {
     "data": {
      "text/plain": [
       "np.int64(9)"
      ]
     },
     "execution_count": 66,
     "metadata": {},
     "output_type": "execute_result"
    }
   ],
   "source": [
    "arr3[-1]    # find the last Element of the array "
   ]
  },
  {
   "cell_type": "code",
   "execution_count": 67,
   "id": "3d0cca56",
   "metadata": {},
   "outputs": [
    {
     "name": "stdout",
     "output_type": "stream",
     "text": [
      "[[1 2 3]]\n",
      "[[5 6 7]]\n",
      "---------------------\n"
     ]
    },
    {
     "data": {
      "text/plain": [
       "array([[ 6,  8, 10],\n",
       "       [ 9, 11, 13],\n",
       "       [12, 14, 16]])"
      ]
     },
     "execution_count": 67,
     "metadata": {},
     "output_type": "execute_result"
    }
   ],
   "source": [
    "array2=np.array([[1,2,3]])\n",
    "array3=np.array([[5,6,7]])\n",
    "print(array2)\n",
    "print(array3)\n",
    "add= array1+array3           # adding the two array \n",
    "print('---------------------')\n",
    "add"
   ]
  },
  {
   "cell_type": "code",
   "execution_count": 68,
   "id": "52bff9cd",
   "metadata": {},
   "outputs": [
    {
     "name": "stdout",
     "output_type": "stream",
     "text": [
      "[[1 2 3]]\n",
      "[[5 6 7]]\n",
      "---------------------\n"
     ]
    },
    {
     "data": {
      "text/plain": [
       "array([[-4, -4, -4],\n",
       "       [ 3,  3,  3]])"
      ]
     },
     "execution_count": 68,
     "metadata": {},
     "output_type": "execute_result"
    }
   ],
   "source": [
    "array12=np.array([[1,2,3],[4,5,6]])\n",
    "array123=np.array([[5,6,7],[1,2,3]])\n",
    "print(array2)\n",
    "print(array3)\n",
    "sub= array12-array123          # subtract array1 from array2 \n",
    "print('---------------------')\n",
    "sub"
   ]
  },
  {
   "cell_type": "code",
   "execution_count": 69,
   "id": "80d2edf5",
   "metadata": {},
   "outputs": [
    {
     "name": "stdout",
     "output_type": "stream",
     "text": [
      "[[1 2 3]]\n",
      "[[5 6 7]]\n",
      "---------------------\n"
     ]
    },
    {
     "data": {
      "text/plain": [
       "array([[   1,   64, 2187],\n",
       "       [   4,   25,  216]])"
      ]
     },
     "execution_count": 69,
     "metadata": {},
     "output_type": "execute_result"
    }
   ],
   "source": [
    "array13=np.array([[1,2,3],[4,5,6]])\n",
    "array123=np.array([[5,6,7],[1,2,3]])\n",
    "print(array2)\n",
    "print(array3)\n",
    "sub= array12**array123        # Square of the array\n",
    "print('---------------------')\n",
    "sub"
   ]
  },
  {
   "cell_type": "code",
   "execution_count": 70,
   "id": "326dfc03",
   "metadata": {},
   "outputs": [
    {
     "name": "stdout",
     "output_type": "stream",
     "text": [
      "[[1 2 3]]\n",
      "[[5 6 7]]\n",
      "---------------------\n"
     ]
    },
    {
     "data": {
      "text/plain": [
       "array([[0.2       , 0.33333333, 0.42857143],\n",
       "       [4.        , 2.5       , 2.        ]])"
      ]
     },
     "execution_count": 70,
     "metadata": {},
     "output_type": "execute_result"
    }
   ],
   "source": [
    "array12=np.array([[1,2,3],[4,5,6]])\n",
    "array123=np.array([[5,6,7],[1,2,3]])\n",
    "print(array2)\n",
    "print(array3)\n",
    "sub= array12/array123              # divide the array1 from array2 \n",
    "print('---------------------')\n",
    "sub"
   ]
  },
  {
   "cell_type": "code",
   "execution_count": 71,
   "id": "69bdba30",
   "metadata": {},
   "outputs": [
    {
     "name": "stdout",
     "output_type": "stream",
     "text": [
      "[[1 2 3]]\n",
      "[[5 6 7]]\n",
      "---------------------\n"
     ]
    },
    {
     "data": {
      "text/plain": [
       "array([[ 5, 12, 21],\n",
       "       [ 4, 10, 18]])"
      ]
     },
     "execution_count": 71,
     "metadata": {},
     "output_type": "execute_result"
    }
   ],
   "source": [
    "array12=np.array([[1,2,3],[4,5,6]])\n",
    "array123=np.array([[5,6,7],[1,2,3]])\n",
    "print(array2)\n",
    "print(array3)\n",
    "sub= array12*array123               # multiply array1 frorm array2\n",
    "print('---------------------')\n",
    "sub"
   ]
  },
  {
   "cell_type": "code",
   "execution_count": 75,
   "id": "d5974565",
   "metadata": {},
   "outputs": [
    {
     "name": "stdout",
     "output_type": "stream",
     "text": [
      "8\n"
     ]
    }
   ],
   "source": [
    "#Self Learning \n",
    "array1=np.array([[1,2,3,4,5,6,7,8,9]])  \n",
    "a=array1.argmax()   #   Return The maximum value index \n",
    "print(a)"
   ]
  },
  {
   "cell_type": "code",
   "execution_count": 76,
   "id": "7d8287e2",
   "metadata": {},
   "outputs": [
    {
     "name": "stdout",
     "output_type": "stream",
     "text": [
      "0\n"
     ]
    }
   ],
   "source": [
    "c=array1.argmin()  #   Return the Minimum value index \n",
    "print(c)"
   ]
  },
  {
   "cell_type": "code",
   "execution_count": 79,
   "id": "1ec3965f",
   "metadata": {},
   "outputs": [
    {
     "data": {
      "text/plain": [
       "array([0. , 0.5, 1. , 1.5, 2. ])"
      ]
     },
     "execution_count": 79,
     "metadata": {},
     "output_type": "execute_result"
    }
   ],
   "source": [
    "arr = np.array([10, 20, 30, 50])\n",
    "np.diff(arr)\n",
    "np.linspace(0,2,5)"
   ]
  }
 ],
 "metadata": {
  "kernelspec": {
   "display_name": "Python 3",
   "language": "python",
   "name": "python3"
  },
  "language_info": {
   "codemirror_mode": {
    "name": "ipython",
    "version": 3
   },
   "file_extension": ".py",
   "mimetype": "text/x-python",
   "name": "python",
   "nbconvert_exporter": "python",
   "pygments_lexer": "ipython3",
   "version": "3.12.2"
  }
 },
 "nbformat": 4,
 "nbformat_minor": 5
}
